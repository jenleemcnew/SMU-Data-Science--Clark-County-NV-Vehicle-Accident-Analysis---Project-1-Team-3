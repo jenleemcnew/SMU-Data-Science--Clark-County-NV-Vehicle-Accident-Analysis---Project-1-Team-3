{
 "cells": [
  {
   "cell_type": "code",
   "execution_count": 5,
   "metadata": {},
   "outputs": [
    {
     "data": {
      "text/plain": [
       "Index(['FID_1', 'OBJECTID', 'Crash_Seve', 'County', 'Crash_Date', 'Crash_Year',\n",
       "       'Crash_Time', 'Primary_St', 'Distance', 'Dir', 'Secondary_', 'Weather',\n",
       "       'Fatalities', 'Injured', 'Property_D', 'Injury_Typ', 'Crash_Type',\n",
       "       'Total_Vehi', 'V1_Type', 'V1_Dir', 'V1_Driver_', 'V1_Lane_Nu',\n",
       "       'V1_Action', 'V1_Driver1', 'V1_Drive_1', 'V1_Vehicle', 'V1_Most_Ha',\n",
       "       'V1_All_Eve', 'V2_Type', 'V2_Dir', 'V2_Driver_', 'V2_Lane_Nu',\n",
       "       'V2_Action', 'V2_Driver1', 'V2_Drive_1', 'V2_Vehicle', 'V2_Most_Ha',\n",
       "       'V2_All_Eve', 'First_Harm', 'Nonmotoris', 'Factors_Ro', 'Lighting',\n",
       "       'HWY_Factor', 'Agency', 'Accident_R', 'Pedalcycli', 'Pedestrian',\n",
       "       'Motorcycli', 'AnimalType', 'X', 'Y', 'OBJECTID_1', 'AREA', 'PERIMETER',\n",
       "       'WARD', 'CNTY_IS', 'SHADE', 'ACRES', 'SQ_MILES', 'AREA_1', 'LEN'],\n",
       "      dtype='object')"
      ]
     },
     "execution_count": 5,
     "metadata": {},
     "output_type": "execute_result"
    }
   ],
   "source": [
    "#importing necessary libraries \n",
    "import pandas as pd\n",
    "import numpy as np\n",
    "import json\n",
    "import csv \n",
    "import matplotlib.pyplot as plt\n",
    "import requests\n",
    "import scipy.stats as st\n",
    "import os\n",
    "\n",
    "# importing the csv file\n",
    "csvpath = os.path.join(\"traffic-crashes-1 (2).csv\")\n",
    "\n",
    "with open(csvpath) as csvfile:\n",
    "\n",
    "    csvreader = csv.reader(csvfile, delimiter = \",\")\n",
    "\n",
    "    csvheader = next(csvreader) \n",
    "\n",
    "traffic_data = pd.read_csv(\"traffic-crashes-1 (2).csv\")\n",
    "\n",
    "traffic_data.columns\n",
    "\n"
   ]
  },
  {
   "cell_type": "code",
   "execution_count": 6,
   "id": "d8e44207",
   "metadata": {},
   "outputs": [
    {
     "data": {
      "text/html": [
       "<div>\n",
       "<style scoped>\n",
       "    .dataframe tbody tr th:only-of-type {\n",
       "        vertical-align: middle;\n",
       "    }\n",
       "\n",
       "    .dataframe tbody tr th {\n",
       "        vertical-align: top;\n",
       "    }\n",
       "\n",
       "    .dataframe thead th {\n",
       "        text-align: right;\n",
       "    }\n",
       "</style>\n",
       "<table border=\"1\" class=\"dataframe\">\n",
       "  <thead>\n",
       "    <tr style=\"text-align: right;\">\n",
       "      <th></th>\n",
       "      <th>County</th>\n",
       "      <th>Crash_Seve</th>\n",
       "      <th>Crash_Date</th>\n",
       "      <th>Weather</th>\n",
       "      <th>Crash_Type</th>\n",
       "      <th>V1_Driver1</th>\n",
       "      <th>V1_Driver_</th>\n",
       "      <th>Factors_Ro</th>\n",
       "      <th>Lighting</th>\n",
       "      <th>X</th>\n",
       "      <th>Y</th>\n",
       "    </tr>\n",
       "  </thead>\n",
       "  <tbody>\n",
       "    <tr>\n",
       "      <th>0</th>\n",
       "      <td>CLARK</td>\n",
       "      <td>PROPERTY DAMAGE ONLY</td>\n",
       "      <td>01/01/2016</td>\n",
       "      <td>CLEAR</td>\n",
       "      <td>REAR-END</td>\n",
       "      <td>APPARENTLY NORMAL</td>\n",
       "      <td>49</td>\n",
       "      <td>DRY</td>\n",
       "      <td>DAYLIGHT</td>\n",
       "      <td>-115.296856</td>\n",
       "      <td>36.282588</td>\n",
       "    </tr>\n",
       "    <tr>\n",
       "      <th>1</th>\n",
       "      <td>CLARK</td>\n",
       "      <td>INJURY CRASH</td>\n",
       "      <td>01/01/2016</td>\n",
       "      <td>CLEAR</td>\n",
       "      <td>NON-COLLISION</td>\n",
       "      <td>HAD BEEN DRINKING</td>\n",
       "      <td>22</td>\n",
       "      <td>DRY</td>\n",
       "      <td>DARK - NO LIGHTING</td>\n",
       "      <td>-115.305960</td>\n",
       "      <td>36.313917</td>\n",
       "    </tr>\n",
       "    <tr>\n",
       "      <th>2</th>\n",
       "      <td>CLARK</td>\n",
       "      <td>PROPERTY DAMAGE ONLY</td>\n",
       "      <td>01/01/2016</td>\n",
       "      <td>CLEAR</td>\n",
       "      <td>NON-COLLISION</td>\n",
       "      <td>HAD BEEN DRINKING</td>\n",
       "      <td>22</td>\n",
       "      <td>DRY</td>\n",
       "      <td>DARK - CONTINUOUS LIGHTING</td>\n",
       "      <td>-115.266269</td>\n",
       "      <td>36.279880</td>\n",
       "    </tr>\n",
       "    <tr>\n",
       "      <th>3</th>\n",
       "      <td>CLARK</td>\n",
       "      <td>PROPERTY DAMAGE ONLY</td>\n",
       "      <td>01/01/2016</td>\n",
       "      <td>CLEAR</td>\n",
       "      <td>NON-COLLISION</td>\n",
       "      <td>NaN</td>\n",
       "      <td>0</td>\n",
       "      <td>WET</td>\n",
       "      <td>DARK - SPOT LIGHTING</td>\n",
       "      <td>-115.283121</td>\n",
       "      <td>36.278732</td>\n",
       "    </tr>\n",
       "    <tr>\n",
       "      <th>4</th>\n",
       "      <td>CLARK</td>\n",
       "      <td>PROPERTY DAMAGE ONLY</td>\n",
       "      <td>01/01/2016</td>\n",
       "      <td>CLEAR</td>\n",
       "      <td>NON-COLLISION</td>\n",
       "      <td>APPARENTLY NORMAL</td>\n",
       "      <td>27</td>\n",
       "      <td>DRY</td>\n",
       "      <td>DARK - NO LIGHTING</td>\n",
       "      <td>-115.312353</td>\n",
       "      <td>36.327534</td>\n",
       "    </tr>\n",
       "  </tbody>\n",
       "</table>\n",
       "</div>"
      ],
      "text/plain": [
       "  County            Crash_Seve  Crash_Date Weather     Crash_Type  \\\n",
       "0  CLARK  PROPERTY DAMAGE ONLY  01/01/2016   CLEAR       REAR-END   \n",
       "1  CLARK          INJURY CRASH  01/01/2016   CLEAR  NON-COLLISION   \n",
       "2  CLARK  PROPERTY DAMAGE ONLY  01/01/2016   CLEAR  NON-COLLISION   \n",
       "3  CLARK  PROPERTY DAMAGE ONLY  01/01/2016   CLEAR  NON-COLLISION   \n",
       "4  CLARK  PROPERTY DAMAGE ONLY  01/01/2016   CLEAR  NON-COLLISION   \n",
       "\n",
       "          V1_Driver1  V1_Driver_ Factors_Ro                    Lighting  \\\n",
       "0  APPARENTLY NORMAL          49        DRY                    DAYLIGHT   \n",
       "1  HAD BEEN DRINKING          22        DRY          DARK - NO LIGHTING   \n",
       "2  HAD BEEN DRINKING          22        DRY  DARK - CONTINUOUS LIGHTING   \n",
       "3                NaN           0        WET        DARK - SPOT LIGHTING   \n",
       "4  APPARENTLY NORMAL          27        DRY          DARK - NO LIGHTING   \n",
       "\n",
       "            X          Y  \n",
       "0 -115.296856  36.282588  \n",
       "1 -115.305960  36.313917  \n",
       "2 -115.266269  36.279880  \n",
       "3 -115.283121  36.278732  \n",
       "4 -115.312353  36.327534  "
      ]
     },
     "execution_count": 6,
     "metadata": {},
     "output_type": "execute_result"
    }
   ],
   "source": [
    "clean_traffic_data = traffic_data[[\"County\",\"Crash_Seve\",\"Crash_Date\",\"Weather\",\"Crash_Type\",\"V1_Driver1\",\"V1_Driver_\",\"Factors_Ro\",\"Lighting\",\"X\",\"Y\"]].copy()\n",
    "\n",
    "clean_traffic_data.head(5)"
   ]
  },
  {
   "cell_type": "code",
   "execution_count": 9,
   "id": "fc638e03",
   "metadata": {},
   "outputs": [
    {
     "data": {
      "text/plain": [
       "12720"
      ]
     },
     "execution_count": 9,
     "metadata": {},
     "output_type": "execute_result"
    }
   ],
   "source": []
  },
  {
   "cell_type": "code",
   "execution_count": null,
   "id": "7e62c050",
   "metadata": {},
   "outputs": [],
   "source": []
  }
 ],
 "metadata": {
  "kernelspec": {
   "display_name": "base",
   "language": "python",
   "name": "python3"
  },
  "language_info": {
   "codemirror_mode": {
    "name": "ipython",
    "version": 3
   },
   "file_extension": ".py",
   "mimetype": "text/x-python",
   "name": "python",
   "nbconvert_exporter": "python",
   "pygments_lexer": "ipython3",
   "version": "3.11.7"
  }
 },
 "nbformat": 4,
 "nbformat_minor": 5
}
